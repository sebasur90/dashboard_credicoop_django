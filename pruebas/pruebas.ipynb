{
 "cells": [
  {
   "cell_type": "code",
   "execution_count": 11,
   "metadata": {},
   "outputs": [],
   "source": [
    "import numpy as np\n",
    "import pandas as pd\n",
    "\n",
    "datos_sin_procesar = pd.read_csv(\"datos.CSV\")\n"
   ]
  },
  {
   "cell_type": "code",
   "execution_count": 17,
   "metadata": {},
   "outputs": [],
   "source": [
    "sueldos=datos_sin_procesar[datos_sin_procesar.concepto==\"acreditacion de sueldos \"]"
   ]
  },
  {
   "cell_type": "code",
   "execution_count": 21,
   "metadata": {},
   "outputs": [],
   "source": [
    "listado=list(sueldos.val_abs)"
   ]
  },
  {
   "cell_type": "code",
   "execution_count": 18,
   "metadata": {},
   "outputs": [],
   "source": [
    "import numpy as np\n",
    "import pandas as pd\n",
    "import jinja2\n",
    "\n",
    "datos_sin_procesar = pd.read_csv(\"datos.CSV\")\n",
    "sueldos = datos_sin_procesar[datos_sin_procesar.concepto ==\n",
    "                             \"acreditacion de sueldos \"]\n",
    "listado = list(sueldos.val_abs)\n",
    "jinja_env = jinja2.Environment(loader=jinja2.FileSystemLoader('templates'))\n",
    "jinja_var = {'listado': listado}\n",
    "template = jinja_env.get_template(\"content.html\")\n",
    "output_from_parsed_template = template.render(jinja_var)\n",
    "with open(\"my_new_file.html\", \"w\") as fh:\n",
    "    fh.write(output_from_parsed_template)\n"
   ]
  }
 ],
 "metadata": {
  "kernelspec": {
   "display_name": "env",
   "language": "python",
   "name": "python3"
  },
  "language_info": {
   "codemirror_mode": {
    "name": "ipython",
    "version": 3
   },
   "file_extension": ".py",
   "mimetype": "text/x-python",
   "name": "python",
   "nbconvert_exporter": "python",
   "pygments_lexer": "ipython3",
   "version": "3.10.4"
  },
  "orig_nbformat": 4,
  "vscode": {
   "interpreter": {
    "hash": "20678b2f7f07194230f745cdd3282669ddeba5bf74778815a148553b86ce816c"
   }
  }
 },
 "nbformat": 4,
 "nbformat_minor": 2
}
