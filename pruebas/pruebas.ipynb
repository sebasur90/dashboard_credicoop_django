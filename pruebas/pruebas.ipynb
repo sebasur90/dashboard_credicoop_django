{
 "cells": [
  {
   "cell_type": "code",
   "execution_count": 11,
   "metadata": {},
   "outputs": [],
   "source": [
    "import numpy as np\n",
    "import pandas as pd\n",
    "\n",
    "datos_sin_procesar = pd.read_csv(\"datos.CSV\")\n"
   ]
  },
  {
   "cell_type": "code",
   "execution_count": null,
   "metadata": {},
   "outputs": [],
   "source": []
  },
  {
   "cell_type": "code",
   "execution_count": 17,
   "metadata": {},
   "outputs": [],
   "source": [
    "sueldos=datos_sin_procesar[datos_sin_procesar.concepto==\"acreditacion de sueldos \"]"
   ]
  },
  {
   "cell_type": "code",
   "execution_count": 36,
   "metadata": {},
   "outputs": [
    {
     "data": {
      "text/plain": [
       "ano   mes\n",
       "2019  4      2\n",
       "      5      2\n",
       "      6      1\n",
       "      7      2\n",
       "      8      1\n",
       "      9      2\n",
       "      10     3\n",
       "      11     2\n",
       "      12     2\n",
       "2020  1      1\n",
       "      2      2\n",
       "      3      2\n",
       "      4      2\n",
       "      5      1\n",
       "      6      1\n",
       "      7      1\n",
       "      8      1\n",
       "      9      1\n",
       "      10     1\n",
       "      11     2\n",
       "      12     3\n",
       "2021  1      1\n",
       "      2      2\n",
       "      3      2\n",
       "      4      2\n",
       "      5      1\n",
       "      6      1\n",
       "      7      1\n",
       "      8      1\n",
       "      9      2\n",
       "      10     2\n",
       "      11     2\n",
       "      12     3\n",
       "2022  1      1\n",
       "      2      1\n",
       "      3      2\n",
       "      4      1\n",
       "      5      2\n",
       "      6      1\n",
       "      7      1\n",
       "      8      1\n",
       "      9      2\n",
       "      10     2\n",
       "      11     1\n",
       "Name: val_abs, dtype: int64"
      ]
     },
     "execution_count": 36,
     "metadata": {},
     "output_type": "execute_result"
    }
   ],
   "source": [
    "sueldos.groupby(['ano','mes'])['val_abs'].count()"
   ]
  },
  {
   "cell_type": "code",
   "execution_count": 21,
   "metadata": {},
   "outputs": [],
   "source": [
    "listado=list(sueldos.val_abs)"
   ]
  },
  {
   "cell_type": "code",
   "execution_count": 39,
   "metadata": {},
   "outputs": [],
   "source": [
    "import numpy as np\n",
    "import pandas as pd\n",
    "import jinja2\n",
    "\n",
    "datos_sin_procesar = pd.read_csv(\"datos.CSV\")\n",
    "sueldos = datos_sin_procesar[datos_sin_procesar.concepto ==\n",
    "                             \"acreditacion de sueldos \"]\n",
    "listado = list(sueldos.val_abs)\n",
    "\n",
    "import plotly.express as px\n",
    "import plotly\n",
    "\n",
    "df = px.data.gapminder().query(\"continent=='Oceania'\")\n",
    "fig = px.line(df, x=\"year\", y=\"lifeExp\", color='country',template=\"simple_white\")\n",
    "#fig.update_layout(autosize=True)\n",
    "#fig.show()\n",
    "figura=plotly.offline.plot(fig, include_plotlyjs=False, output_type='div')\n",
    "\n",
    "\n",
    "fig = px.line(df, x=\"year\", y=\"lifeExp\", color='country',template=\"simple_white\")\n",
    "#fig.show()\n",
    "fig.update_layout(showlegend=False)\n",
    "#fig.update_layout(autosize=True)\n",
    "#fig.update_xaxes(showgrid=False, zeroline=False)\n",
    "#fig.update_yaxes(showgrid=False, zeroline=False)\n",
    "fig.update_yaxes(visible=False, showticklabels=False)\n",
    "fig.update_xaxes(visible=False, showticklabels=False)\n",
    "figura3=plotly.offline.plot(fig, include_plotlyjs=False, output_type='div')\n",
    "\n",
    "\n",
    "data_canada = px.data.gapminder().query(\"country == 'Canada'\")\n",
    "fig = px.bar(data_canada, x='year', y='pop',template=\"simple_white\")\n",
    "fig.update_layout(showlegend=False)\n",
    "fig.update_yaxes(visible=False, showticklabels=False)\n",
    "fig.update_xaxes(visible=False, showticklabels=False)\n",
    "figura4=plotly.offline.plot(fig, include_plotlyjs=False, output_type='div')\n",
    "\n",
    "df = px.data.iris()\n",
    "fig = px.scatter(df, x=\"sepal_width\", y=\"sepal_length\", color=\"species\",\n",
    "                 size='petal_length', hover_data=['petal_width'],template=\"simple_white\")\n",
    "figura2=plotly.offline.plot(fig, include_plotlyjs=False, output_type='div')\n",
    "\n",
    "\n",
    "import plotly.graph_objects as go\n",
    "\n",
    "labels = ['Oxygen','Hydrogen','Carbon_Dioxide','Nitrogen']\n",
    "values = [4500, 2500, 1053, 500]\n",
    "\n",
    "# Use `hole` to create a donut-like pie chart\n",
    "fig = go.Figure(data=[go.Pie(labels=labels, values=values, hole=.6)])\n",
    "fig.update_layout(\n",
    "    title_text=\"Global Emissions 1990-2011\",\n",
    "    # Add annotations in the center of the donut pies.\n",
    "    annotations=[dict(text='GHG', x=0.5, y=0.5, font_size=10, showarrow=False)      ]           )\n",
    "figura5=plotly.offline.plot(fig, include_plotlyjs=False, output_type='div')\n",
    "\n",
    "#print(figura)\n",
    "jinja_env = jinja2.Environment(loader=jinja2.FileSystemLoader('templates'))\n",
    "jinja_var = {'listado': listado ,'figura':figura,'figura2':figura2,'figura3':figura3,'figura4':figura4,'figura5':figura5}\n",
    "template = jinja_env.get_template(\"content.html\")\n",
    "output_from_parsed_template = template.render(jinja_var)\n",
    "with open(\"my_new_file.html\", \"w\") as fh:\n",
    "    fh.write(output_from_parsed_template)\n"
   ]
  }
 ],
 "metadata": {
  "kernelspec": {
   "display_name": "env",
   "language": "python",
   "name": "python3"
  },
  "language_info": {
   "codemirror_mode": {
    "name": "ipython",
    "version": 3
   },
   "file_extension": ".py",
   "mimetype": "text/x-python",
   "name": "python",
   "nbconvert_exporter": "python",
   "pygments_lexer": "ipython3",
   "version": "3.10.4"
  },
  "orig_nbformat": 4,
  "vscode": {
   "interpreter": {
    "hash": "20678b2f7f07194230f745cdd3282669ddeba5bf74778815a148553b86ce816c"
   }
  }
 },
 "nbformat": 4,
 "nbformat_minor": 2
}
